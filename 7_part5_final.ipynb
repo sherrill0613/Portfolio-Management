{
 "cells": [
  {
   "cell_type": "code",
   "execution_count": 1,
   "outputs": [],
   "source": [
    "import pandas as pd\n",
    "import numpy as np\n",
    "\n",
    "df = pd.read_csv(\"TraditionMacroFactors.csv\")\n",
    "\n",
    "ret = pd.read_csv(\"portfolio_return.csv\").set_index(\"Unnamed: 0\")\n",
    "port_ret = ret.sum(axis = 1)"
   ],
   "metadata": {
    "collapsed": false,
    "pycharm": {
     "name": "#%%\n"
    }
   }
  },
  {
   "cell_type": "code",
   "execution_count": 4,
   "outputs": [],
   "source": [
    "port_ret = port_ret.to_frame()"
   ],
   "metadata": {
    "collapsed": false,
    "pycharm": {
     "name": "#%%\n"
    }
   }
  },
  {
   "cell_type": "code",
   "execution_count": 32,
   "outputs": [],
   "source": [
    "port_ret.columns = ['Return']"
   ],
   "metadata": {
    "collapsed": false,
    "pycharm": {
     "name": "#%%\n"
    }
   }
  },
  {
   "cell_type": "code",
   "execution_count": 33,
   "outputs": [],
   "source": [
    "df_merge = pd.merge(df, port_ret, on='Unnamed: 0')\n",
    "correlation_sherrill = df_merge.corr()"
   ],
   "metadata": {
    "collapsed": false,
    "pycharm": {
     "name": "#%%\n"
    }
   }
  },
  {
   "cell_type": "code",
   "execution_count": 17,
   "outputs": [],
   "source": [
    "#df_merge.rename(columns = {'0':'Return'}, inplace = True)"
   ],
   "metadata": {
    "collapsed": false,
    "pycharm": {
     "name": "#%%\n"
    }
   }
  },
  {
   "cell_type": "code",
   "execution_count": 34,
   "outputs": [
    {
     "data": {
      "text/plain": "            CL=F      GC=F      ^DJI     ^GSPC     ^IXIC      ^TNX  Return\nReturn -0.007934  0.015481  0.005368  0.014398  0.010605  0.015159     1.0",
      "text/html": "<div>\n<style scoped>\n    .dataframe tbody tr th:only-of-type {\n        vertical-align: middle;\n    }\n\n    .dataframe tbody tr th {\n        vertical-align: top;\n    }\n\n    .dataframe thead th {\n        text-align: right;\n    }\n</style>\n<table border=\"1\" class=\"dataframe\">\n  <thead>\n    <tr style=\"text-align: right;\">\n      <th></th>\n      <th>CL=F</th>\n      <th>GC=F</th>\n      <th>^DJI</th>\n      <th>^GSPC</th>\n      <th>^IXIC</th>\n      <th>^TNX</th>\n      <th>Return</th>\n    </tr>\n  </thead>\n  <tbody>\n    <tr>\n      <th>Return</th>\n      <td>-0.007934</td>\n      <td>0.015481</td>\n      <td>0.005368</td>\n      <td>0.014398</td>\n      <td>0.010605</td>\n      <td>0.015159</td>\n      <td>1.0</td>\n    </tr>\n  </tbody>\n</table>\n</div>"
     },
     "execution_count": 34,
     "metadata": {},
     "output_type": "execute_result"
    }
   ],
   "source": [
    "correlation_sherrill[6:7]"
   ],
   "metadata": {
    "collapsed": false,
    "pycharm": {
     "name": "#%%\n"
    }
   }
  },
  {
   "cell_type": "code",
   "execution_count": 46,
   "outputs": [],
   "source": [
    "ret1 = pd.read_csv(\"portfolio1.csv\").set_index(\"date\")\n",
    "port_ret1 = ret1.sum(axis = 1)"
   ],
   "metadata": {
    "collapsed": false,
    "pycharm": {
     "name": "#%%\n"
    }
   }
  },
  {
   "cell_type": "code",
   "execution_count": 50,
   "outputs": [
    {
     "data": {
      "text/plain": "date\n2019-08-16    0.122227\n2019-08-17   -1.405170\n2019-08-18   -0.137812\n2019-08-19    0.915817\n2019-08-20    0.523328\n2019-08-21   -1.357649\n2019-08-22   -0.572865\n2019-08-23   -0.126486\n2019-08-24    1.028951\n2019-08-25   -0.349382\n2019-08-26    0.514520\n2019-08-27    3.253346\n2019-08-28    1.363304\n2019-08-29   -0.541507\n2019-08-30   -0.012707\n2019-08-31    0.057911\n2019-09-01   -0.878332\n2019-09-02    0.109779\n2019-09-03    0.636198\n2019-09-04    0.219833\n2019-09-05    0.478222\n2019-09-06   -1.516805\n2019-09-07   -0.759910\n2019-09-08    0.050406\n2019-09-09    0.540083\n2019-09-10    0.679621\n2019-09-11    0.196952\n2019-09-12    0.289740\n2019-09-13   -0.874381\n2019-09-14   -0.063451\n2019-09-15   -0.480031\n2019-09-16   -1.478237\n2019-09-17   -2.034035\n2019-09-18   -0.079242\n2019-09-19    0.576019\n2019-09-20    0.182558\n2019-09-21    1.282304\n2019-09-22    1.938403\n2019-09-23    7.038521\n2019-09-24   -0.707728\n2019-09-25    1.089434\n2019-09-26   -0.813917\n2019-09-27   -0.157706\n2019-09-28    0.933868\n2019-09-29   -1.602612\n2019-09-30    0.541664\n2019-10-01   -0.598751\n2019-10-02    0.362604\n2019-10-03   -0.411329\n2019-10-04   -0.377973\ndtype: float64"
     },
     "execution_count": 50,
     "metadata": {},
     "output_type": "execute_result"
    }
   ],
   "source": [
    "ret1.iloc[1:51].sum(axis=1)"
   ],
   "metadata": {
    "collapsed": false,
    "pycharm": {
     "name": "#%%\n"
    }
   }
  },
  {
   "cell_type": "code",
   "execution_count": null,
   "outputs": [],
   "source": [
    ".set_index(\"Unnamed: 0\")"
   ],
   "metadata": {
    "collapsed": false,
    "pycharm": {
     "name": "#%%\n"
    }
   }
  }
 ],
 "metadata": {
  "kernelspec": {
   "display_name": "Python 3",
   "language": "python",
   "name": "python3"
  },
  "language_info": {
   "codemirror_mode": {
    "name": "ipython",
    "version": 2
   },
   "file_extension": ".py",
   "mimetype": "text/x-python",
   "name": "python",
   "nbconvert_exporter": "python",
   "pygments_lexer": "ipython2",
   "version": "2.7.6"
  }
 },
 "nbformat": 4,
 "nbformat_minor": 0
}